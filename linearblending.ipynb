{
 "cells": [
  {
   "cell_type": "code",
   "execution_count": null,
   "metadata": {},
   "outputs": [],
   "source": [
    "%load_ext autoreload\n",
    "%autoreload 2\n",
    "from skimage import data\n",
    "import matplotlib.pyplot as plt\n",
    "import numpy as np\n",
    "from tifffile import imread, imwrite\n",
    "from scipy import ndimage\n",
    "import helperfunctions as hf"
   ]
  },
  {
   "attachments": {},
   "cell_type": "markdown",
   "metadata": {},
   "source": [
    "### Load two adjacent tiles"
   ]
  },
  {
   "cell_type": "code",
   "execution_count": null,
   "metadata": {},
   "outputs": [],
   "source": [
    "left = imread('images/upscaled/left_up_noise6.tif')\n",
    "right = imread('images/upscaled/right_up_noise6.tif')\n",
    "fig, (ax1, ax2) = plt.subplots(1, 2, figsize=(10, 5))\n",
    "ax1.imshow(left, cmap='gray')\n",
    "ax2.imshow(right, cmap='gray')"
   ]
  },
  {
   "cell_type": "code",
   "execution_count": null,
   "metadata": {},
   "outputs": [],
   "source": [
    "image_map = {\n",
    "    'left': left,\n",
    "    'right': right\n",
    "}\n",
    "\n",
    "image_positions = {\n",
    "    'left': (0, 0),\n",
    "    'right': (0, 400)\n",
    "}\n",
    "\n",
    "im_size = left.shape\n",
    "output_shape = (im_size[0], im_size[1] + 400)\n",
    "\n",
    "shifted_images = []\n",
    "for image in ['left', 'right']:\n",
    "    im_shifted = ndimage.affine_transform(\n",
    "        input = image_map[image],\n",
    "        matrix = np.eye(2),\n",
    "        offset = -np.array([0,0]) - np.array(image_positions[image]),\n",
    "        output_shape = output_shape\n",
    "    )\n",
    "    shifted_images.append(im_shifted)\n",
    "\n",
    "output = np.max(np.stack(shifted_images, axis = 2), axis = 2)\n",
    "plt.imshow(output)"
   ]
  },
  {
   "cell_type": "code",
   "execution_count": null,
   "metadata": {},
   "outputs": [],
   "source": []
  },
  {
   "cell_type": "code",
   "execution_count": null,
   "metadata": {},
   "outputs": [],
   "source": []
  },
  {
   "cell_type": "code",
   "execution_count": null,
   "metadata": {},
   "outputs": [],
   "source": []
  },
  {
   "cell_type": "code",
   "execution_count": null,
   "metadata": {},
   "outputs": [],
   "source": [
    "\n",
    "\n",
    "left_gradient = np.tile(np.linspace(1, 0, 112), (512, 1))\n",
    "right_gradient = np.tile(np.linspace(0, 1, 112), (512, 1))\n",
    "\n",
    "fused_dims_y = 512\n",
    "fused_dims_x = 912\n",
    "left = imread('images/upscaled/left_up_noise6.tif')\n",
    "right = imread('images/upscaled/right_up_noise6.tif')\n",
    "\n",
    "left_corr = left[:, 400:] * left_gradient\n",
    "right_corr = right[:, :112] * right_gradient\n",
    "\n",
    "left[:, 400:] = left_corr\n",
    "right[:, :112] = right_corr\n",
    "\n",
    "translation =  fused_dims_x - fused_dims_y\n",
    "left_shifted = ndimage.affine_transform(\n",
    "    input = left,\n",
    "    matrix = np.eye(2),\n",
    "    offset = -np.array([0, 0]),\n",
    "    output_shape = (fused_dims_y, fused_dims_x)\n",
    ")\n",
    "right_shifted = ndimage.affine_transform(\n",
    "    input = right,\n",
    "    matrix = np.eye(2),\n",
    "    offset = -np.array([0, translation]),\n",
    "    output_shape = (fused_dims_y, fused_dims_x)\n",
    ")\n",
    "output = np.sum(np.stack([left_shifted, right_shifted], axis=2), axis=2)\n",
    "boundary_start = translation\n",
    "boundary_end = 512 + (512 - translation)\n",
    "print(boundary_start, boundary_end) \n",
    "plt.imshow(output); plt.show()"
   ]
  },
  {
   "cell_type": "code",
   "execution_count": null,
   "metadata": {},
   "outputs": [],
   "source": [
    "import numpy as np\n",
    "left_gradient = np.tile(np.linspace(1, 0, 112), (512, 1))\n",
    "right_gradient = np.tile(np.linspace(0, 1, 224), (512, 1))\n",
    "plt.imshow(left_gradient); plt.show()\n",
    "plt.imshow(right_gradient); plt.show()\n",
    "left_gradient.shape"
   ]
  },
  {
   "cell_type": "code",
   "execution_count": null,
   "metadata": {},
   "outputs": [],
   "source": []
  },
  {
   "cell_type": "code",
   "execution_count": null,
   "metadata": {},
   "outputs": [],
   "source": []
  }
 ],
 "metadata": {
  "kernelspec": {
   "display_name": "ppp_stitch",
   "language": "python",
   "name": "python3"
  },
  "language_info": {
   "codemirror_mode": {
    "name": "ipython",
    "version": 3
   },
   "file_extension": ".py",
   "mimetype": "text/x-python",
   "name": "python",
   "nbconvert_exporter": "python",
   "pygments_lexer": "ipython3",
   "version": "3.10.8"
  },
  "orig_nbformat": 4,
  "vscode": {
   "interpreter": {
    "hash": "ba307ee521ad8d79577e5fc41aabe0c906bdb98ecff0857d092cff7addf37012"
   }
  }
 },
 "nbformat": 4,
 "nbformat_minor": 2
}
